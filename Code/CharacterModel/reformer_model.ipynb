{
 "cells": [
  {
   "cell_type": "markdown",
   "id": "4ba26fb0f82e1d4c",
   "metadata": {
    "collapsed": false
   },
   "source": [
    "# Model Research"
   ]
  },
  {
   "cell_type": "code",
   "execution_count": 15,
   "id": "ee85a983d5d910bf",
   "metadata": {
    "ExecuteTime": {
     "end_time": "2024-08-14T07:10:37.133266Z",
     "start_time": "2024-08-14T07:10:37.118890Z"
    },
    "collapsed": false
   },
   "outputs": [],
   "source": [
    "import os.path\n",
    "\n",
    "import torch\n",
    "\n",
    "# Encoding\n",
    "def encode(list_of_strings, device, pad_token_id=0):\n",
    "    max_length = max([len(string) for string in list_of_strings])\n",
    "\n",
    "    # create emtpy tensors\n",
    "    attention_masks = torch.zeros((len(list_of_strings), max_length), dtype=torch.long)\n",
    "    input_ids = torch.full((len(list_of_strings), max_length), pad_token_id, dtype=torch.long)\n",
    "\n",
    "    for idx, string in enumerate(list_of_strings):\n",
    "        # make sure string is in byte format\n",
    "        if not isinstance(string, bytes):\n",
    "            string = str.encode(string)\n",
    "\n",
    "        input_ids[idx, :len(string)] = torch.tensor([x + 2 for x in string])\n",
    "        attention_masks[idx, :len(string)] = 1\n",
    "\n",
    "    return input_ids.to(device), attention_masks.to(device)\n",
    "\n",
    "# Decoding\n",
    "def decode(outputs_ids):\n",
    "    decoded_outputs = []\n",
    "    for output_ids in outputs_ids.tolist():\n",
    "        # transform id back to char IDs < 2 are simply transformed to \"\"\n",
    "        decoded_outputs.append(\"\".join([chr(x - 2) if x > 1 else \"\" for x in output_ids]))\n",
    "    return decoded_outputs"
   ]
  },
  {
   "cell_type": "code",
   "execution_count": 16,
   "id": "22ce63af6f0d0203",
   "metadata": {
    "ExecuteTime": {
     "end_time": "2024-08-14T07:10:40.010988Z",
     "start_time": "2024-08-14T07:10:38.103659Z"
    },
    "collapsed": false
   },
   "outputs": [
    {
     "name": "stderr",
     "output_type": "stream",
     "text": [
      "/home/yoavjavits/miniconda3/envs/HSC/lib/python3.8/site-packages/huggingface_hub/file_download.py:1150: FutureWarning: `resume_download` is deprecated and will be removed in version 1.0.0. Downloads always resume when possible. If you want to force a new download, use `force_download=True`.\n",
      "  warnings.warn(\n"
     ]
    }
   ],
   "source": [
    "from transformers import ReformerModelWithLMHead\n",
    "\n",
    "device = torch.device(\"cuda\" if torch.cuda.is_available() else \"cpu\")\n",
    "model = ReformerModelWithLMHead.from_pretrained(\"google/reformer-enwik8\")\n",
    "model = model.to(device)"
   ]
  },
  {
   "cell_type": "code",
   "execution_count": 12,
   "id": "initial_id",
   "metadata": {
    "ExecuteTime": {
     "end_time": "2024-08-13T15:50:24.742118Z",
     "start_time": "2024-08-13T15:50:23.182461Z"
    },
    "collapsed": true
   },
   "outputs": [
    {
     "data": {
      "text/plain": [
       "['In 1965, Brooks left IBM to found the Department of Housing and Access Research, and IBM returned to IBM. Per June 1965, experimenting with transfer o']"
      ]
     },
     "execution_count": 12,
     "metadata": {},
     "output_type": "execute_result"
    }
   ],
   "source": [
    "encoded, attention_masks = encode([\"In 1965, Brooks left IBM to found the Department of\"], device)\n",
    "decode(model.generate(encoded, do_sample=True, max_length=150))\n",
    "\n",
    "# gives:\n",
    "# In 1965, Brooks left IBM to found the Department of Journalism in 1968. IBM had jurisdiction himself in 1980, while Brooks resolved, nevertheless thro"
   ]
  },
  {
   "cell_type": "code",
   "execution_count": 99,
   "id": "59d7484c54d8d8b1",
   "metadata": {
    "ExecuteTime": {
     "end_time": "2024-08-13T15:07:19.532069Z",
     "start_time": "2024-08-13T15:07:19.530990Z"
    },
    "collapsed": false
   },
   "outputs": [
    {
     "name": "stdout",
     "output_type": "stream",
     "text": [
      "torch.Size([1, 44])\n",
      "torch.Size([1, 51])\n"
     ]
    }
   ],
   "source": [
    "print(encoded.shape)\n",
    "print(attention_masks.shape)"
   ]
  },
  {
   "cell_type": "code",
   "execution_count": 56,
   "id": "29a6f6b5f34897dc",
   "metadata": {
    "ExecuteTime": {
     "end_time": "2024-08-13T14:30:46.679619Z",
     "start_time": "2024-08-13T14:30:46.666019Z"
    },
    "collapsed": false
   },
   "outputs": [
    {
     "name": "stdout",
     "output_type": "stream",
     "text": [
      "ReformerModelWithLMHead(\n",
      "  (reformer): ReformerModel(\n",
      "    (embeddings): ReformerEmbeddings(\n",
      "      (word_embeddings): Embedding(258, 1024)\n",
      "      (position_embeddings): AxialPositionEmbeddings(\n",
      "        (weights): ParameterList(\n",
      "            (0): Parameter containing: [torch.float32 of size 128x1x256 (cuda:0)]\n",
      "            (1): Parameter containing: [torch.float32 of size 1x512x768 (cuda:0)]\n",
      "        )\n",
      "      )\n",
      "    )\n",
      "    (encoder): ReformerEncoder(\n",
      "      (layers): ModuleList(\n",
      "        (0-1): 2 x ReformerLayer(\n",
      "          (attention): ReformerAttention(\n",
      "            (layer_norm): LayerNorm((1024,), eps=1e-12, elementwise_affine=True)\n",
      "            (self_attention): LocalSelfAttention(\n",
      "              (query): Linear(in_features=1024, out_features=1024, bias=False)\n",
      "              (key): Linear(in_features=1024, out_features=1024, bias=False)\n",
      "              (value): Linear(in_features=1024, out_features=1024, bias=False)\n",
      "            )\n",
      "            (output): ReformerSelfOutput(\n",
      "              (dense): Linear(in_features=1024, out_features=1024, bias=False)\n",
      "            )\n",
      "          )\n",
      "          (feed_forward): ChunkReformerFeedForward(\n",
      "            (layer_norm): LayerNorm((1024,), eps=1e-12, elementwise_affine=True)\n",
      "            (dense): ReformerFeedForwardDense(\n",
      "              (act_fn): ReLU()\n",
      "              (dense): Linear(in_features=1024, out_features=4096, bias=True)\n",
      "            )\n",
      "            (output): ReformerFeedForwardOutput(\n",
      "              (dense): Linear(in_features=4096, out_features=1024, bias=True)\n",
      "            )\n",
      "          )\n",
      "        )\n",
      "        (2): ReformerLayer(\n",
      "          (attention): ReformerAttention(\n",
      "            (layer_norm): LayerNorm((1024,), eps=1e-12, elementwise_affine=True)\n",
      "            (self_attention): LSHSelfAttention(\n",
      "              (query_key): Linear(in_features=1024, out_features=1024, bias=False)\n",
      "              (value): Linear(in_features=1024, out_features=1024, bias=False)\n",
      "            )\n",
      "            (output): ReformerSelfOutput(\n",
      "              (dense): Linear(in_features=1024, out_features=1024, bias=False)\n",
      "            )\n",
      "          )\n",
      "          (feed_forward): ChunkReformerFeedForward(\n",
      "            (layer_norm): LayerNorm((1024,), eps=1e-12, elementwise_affine=True)\n",
      "            (dense): ReformerFeedForwardDense(\n",
      "              (act_fn): ReLU()\n",
      "              (dense): Linear(in_features=1024, out_features=4096, bias=True)\n",
      "            )\n",
      "            (output): ReformerFeedForwardOutput(\n",
      "              (dense): Linear(in_features=4096, out_features=1024, bias=True)\n",
      "            )\n",
      "          )\n",
      "        )\n",
      "        (3-5): 3 x ReformerLayer(\n",
      "          (attention): ReformerAttention(\n",
      "            (layer_norm): LayerNorm((1024,), eps=1e-12, elementwise_affine=True)\n",
      "            (self_attention): LocalSelfAttention(\n",
      "              (query): Linear(in_features=1024, out_features=1024, bias=False)\n",
      "              (key): Linear(in_features=1024, out_features=1024, bias=False)\n",
      "              (value): Linear(in_features=1024, out_features=1024, bias=False)\n",
      "            )\n",
      "            (output): ReformerSelfOutput(\n",
      "              (dense): Linear(in_features=1024, out_features=1024, bias=False)\n",
      "            )\n",
      "          )\n",
      "          (feed_forward): ChunkReformerFeedForward(\n",
      "            (layer_norm): LayerNorm((1024,), eps=1e-12, elementwise_affine=True)\n",
      "            (dense): ReformerFeedForwardDense(\n",
      "              (act_fn): ReLU()\n",
      "              (dense): Linear(in_features=1024, out_features=4096, bias=True)\n",
      "            )\n",
      "            (output): ReformerFeedForwardOutput(\n",
      "              (dense): Linear(in_features=4096, out_features=1024, bias=True)\n",
      "            )\n",
      "          )\n",
      "        )\n",
      "        (6): ReformerLayer(\n",
      "          (attention): ReformerAttention(\n",
      "            (layer_norm): LayerNorm((1024,), eps=1e-12, elementwise_affine=True)\n",
      "            (self_attention): LSHSelfAttention(\n",
      "              (query_key): Linear(in_features=1024, out_features=1024, bias=False)\n",
      "              (value): Linear(in_features=1024, out_features=1024, bias=False)\n",
      "            )\n",
      "            (output): ReformerSelfOutput(\n",
      "              (dense): Linear(in_features=1024, out_features=1024, bias=False)\n",
      "            )\n",
      "          )\n",
      "          (feed_forward): ChunkReformerFeedForward(\n",
      "            (layer_norm): LayerNorm((1024,), eps=1e-12, elementwise_affine=True)\n",
      "            (dense): ReformerFeedForwardDense(\n",
      "              (act_fn): ReLU()\n",
      "              (dense): Linear(in_features=1024, out_features=4096, bias=True)\n",
      "            )\n",
      "            (output): ReformerFeedForwardOutput(\n",
      "              (dense): Linear(in_features=4096, out_features=1024, bias=True)\n",
      "            )\n",
      "          )\n",
      "        )\n",
      "        (7-9): 3 x ReformerLayer(\n",
      "          (attention): ReformerAttention(\n",
      "            (layer_norm): LayerNorm((1024,), eps=1e-12, elementwise_affine=True)\n",
      "            (self_attention): LocalSelfAttention(\n",
      "              (query): Linear(in_features=1024, out_features=1024, bias=False)\n",
      "              (key): Linear(in_features=1024, out_features=1024, bias=False)\n",
      "              (value): Linear(in_features=1024, out_features=1024, bias=False)\n",
      "            )\n",
      "            (output): ReformerSelfOutput(\n",
      "              (dense): Linear(in_features=1024, out_features=1024, bias=False)\n",
      "            )\n",
      "          )\n",
      "          (feed_forward): ChunkReformerFeedForward(\n",
      "            (layer_norm): LayerNorm((1024,), eps=1e-12, elementwise_affine=True)\n",
      "            (dense): ReformerFeedForwardDense(\n",
      "              (act_fn): ReLU()\n",
      "              (dense): Linear(in_features=1024, out_features=4096, bias=True)\n",
      "            )\n",
      "            (output): ReformerFeedForwardOutput(\n",
      "              (dense): Linear(in_features=4096, out_features=1024, bias=True)\n",
      "            )\n",
      "          )\n",
      "        )\n",
      "        (10): ReformerLayer(\n",
      "          (attention): ReformerAttention(\n",
      "            (layer_norm): LayerNorm((1024,), eps=1e-12, elementwise_affine=True)\n",
      "            (self_attention): LSHSelfAttention(\n",
      "              (query_key): Linear(in_features=1024, out_features=1024, bias=False)\n",
      "              (value): Linear(in_features=1024, out_features=1024, bias=False)\n",
      "            )\n",
      "            (output): ReformerSelfOutput(\n",
      "              (dense): Linear(in_features=1024, out_features=1024, bias=False)\n",
      "            )\n",
      "          )\n",
      "          (feed_forward): ChunkReformerFeedForward(\n",
      "            (layer_norm): LayerNorm((1024,), eps=1e-12, elementwise_affine=True)\n",
      "            (dense): ReformerFeedForwardDense(\n",
      "              (act_fn): ReLU()\n",
      "              (dense): Linear(in_features=1024, out_features=4096, bias=True)\n",
      "            )\n",
      "            (output): ReformerFeedForwardOutput(\n",
      "              (dense): Linear(in_features=4096, out_features=1024, bias=True)\n",
      "            )\n",
      "          )\n",
      "        )\n",
      "        (11): ReformerLayer(\n",
      "          (attention): ReformerAttention(\n",
      "            (layer_norm): LayerNorm((1024,), eps=1e-12, elementwise_affine=True)\n",
      "            (self_attention): LocalSelfAttention(\n",
      "              (query): Linear(in_features=1024, out_features=1024, bias=False)\n",
      "              (key): Linear(in_features=1024, out_features=1024, bias=False)\n",
      "              (value): Linear(in_features=1024, out_features=1024, bias=False)\n",
      "            )\n",
      "            (output): ReformerSelfOutput(\n",
      "              (dense): Linear(in_features=1024, out_features=1024, bias=False)\n",
      "            )\n",
      "          )\n",
      "          (feed_forward): ChunkReformerFeedForward(\n",
      "            (layer_norm): LayerNorm((1024,), eps=1e-12, elementwise_affine=True)\n",
      "            (dense): ReformerFeedForwardDense(\n",
      "              (act_fn): ReLU()\n",
      "              (dense): Linear(in_features=1024, out_features=4096, bias=True)\n",
      "            )\n",
      "            (output): ReformerFeedForwardOutput(\n",
      "              (dense): Linear(in_features=4096, out_features=1024, bias=True)\n",
      "            )\n",
      "          )\n",
      "        )\n",
      "      )\n",
      "      (layer_norm): LayerNorm((2048,), eps=1e-12, elementwise_affine=True)\n",
      "    )\n",
      "  )\n",
      "  (lm_head): ReformerOnlyLMHead(\n",
      "    (decoder): Linear(in_features=2048, out_features=258, bias=True)\n",
      "  )\n",
      ")\n"
     ]
    }
   ],
   "source": [
    "print(model)"
   ]
  },
  {
   "cell_type": "code",
   "execution_count": 57,
   "id": "2cb24a11d6747aa1",
   "metadata": {
    "ExecuteTime": {
     "end_time": "2024-08-13T14:30:48.971841Z",
     "start_time": "2024-08-13T14:30:48.956100Z"
    },
    "collapsed": false
   },
   "outputs": [
    {
     "name": "stdout",
     "output_type": "stream",
     "text": [
      "ReformerConfig {\n",
      "  \"_name_or_path\": \"google/reformer-enwik8\",\n",
      "  \"architectures\": [\n",
      "    \"ReformerModelWithLMHead\"\n",
      "  ],\n",
      "  \"attention_head_size\": 128,\n",
      "  \"attn_layers\": [\n",
      "    \"local\",\n",
      "    \"local\",\n",
      "    \"lsh\",\n",
      "    \"local\",\n",
      "    \"local\",\n",
      "    \"local\",\n",
      "    \"lsh\",\n",
      "    \"local\",\n",
      "    \"local\",\n",
      "    \"local\",\n",
      "    \"lsh\",\n",
      "    \"local\"\n",
      "  ],\n",
      "  \"axial_norm_std\": 1.0,\n",
      "  \"axial_pos_embds\": true,\n",
      "  \"axial_pos_embds_dim\": [\n",
      "    256,\n",
      "    768\n",
      "  ],\n",
      "  \"axial_pos_shape\": [\n",
      "    128,\n",
      "    512\n",
      "  ],\n",
      "  \"chunk_size_lm_head\": 0,\n",
      "  \"classifier_dropout\": null,\n",
      "  \"eos_token_id\": 2,\n",
      "  \"feed_forward_size\": 4096,\n",
      "  \"hash_seed\": null,\n",
      "  \"hidden_act\": \"relu\",\n",
      "  \"hidden_dropout_prob\": 0.2,\n",
      "  \"hidden_size\": 1024,\n",
      "  \"initializer_range\": 0.02,\n",
      "  \"is_decoder\": true,\n",
      "  \"layer_norm_eps\": 1e-12,\n",
      "  \"local_attention_probs_dropout_prob\": 0.2,\n",
      "  \"local_attn_chunk_length\": 128,\n",
      "  \"local_num_chunks_after\": 0,\n",
      "  \"local_num_chunks_before\": 1,\n",
      "  \"lsh_attention_probs_dropout_prob\": 0.1,\n",
      "  \"lsh_attn_chunk_length\": 256,\n",
      "  \"lsh_num_chunks_after\": 0,\n",
      "  \"lsh_num_chunks_before\": 1,\n",
      "  \"max_position_embeddings\": 65536,\n",
      "  \"model_type\": \"reformer\",\n",
      "  \"num_attention_heads\": 8,\n",
      "  \"num_buckets\": 512,\n",
      "  \"num_hashes\": 4,\n",
      "  \"num_hidden_layers\": 12,\n",
      "  \"output_past\": true,\n",
      "  \"pad_token_id\": 0,\n",
      "  \"task_specific_params\": {\n",
      "    \"text-generation\": {\n",
      "      \"do_sample\": true,\n",
      "      \"max_length\": 100\n",
      "    }\n",
      "  },\n",
      "  \"tie_word_embeddings\": false,\n",
      "  \"transformers_version\": \"4.37.2\",\n",
      "  \"use_cache\": true,\n",
      "  \"vocab_size\": 258\n",
      "}\n"
     ]
    }
   ],
   "source": [
    "print(model.config)"
   ]
  },
  {
   "cell_type": "markdown",
   "id": "9cfd7f7e4a808e65",
   "metadata": {
    "collapsed": false
   },
   "source": [
    "# Evaluate the model"
   ]
  },
  {
   "cell_type": "code",
   "execution_count": 17,
   "id": "772d14e4aad95854",
   "metadata": {
    "ExecuteTime": {
     "end_time": "2024-08-14T07:10:42.839581Z",
     "start_time": "2024-08-14T07:10:42.832333Z"
    },
    "collapsed": false
   },
   "outputs": [],
   "source": [
    "from data_scripts.data_reformer import Corpus"
   ]
  },
  {
   "cell_type": "code",
   "execution_count": 18,
   "id": "8d4d2de5b638859f",
   "metadata": {
    "ExecuteTime": {
     "end_time": "2024-08-14T07:10:43.946778Z",
     "start_time": "2024-08-14T07:10:43.356502Z"
    },
    "collapsed": false
   },
   "outputs": [],
   "source": [
    "corpus: Corpus = Corpus(\"./data/sentences\")"
   ]
  },
  {
   "cell_type": "code",
   "execution_count": 19,
   "id": "2ca9a32f1cd72e39",
   "metadata": {
    "ExecuteTime": {
     "end_time": "2024-08-14T07:10:44.725249Z",
     "start_time": "2024-08-14T07:10:44.717824Z"
    },
    "collapsed": false
   },
   "outputs": [],
   "source": [
    "def extract_sentences(corpus_):\n",
    "    eos_id = corpus_.dictionary.char2idx['eos']\n",
    "\n",
    "    sentences_ = []\n",
    "\n",
    "    curr_index = 0\n",
    "    while curr_index < len(corpus_.test):\n",
    "        sentence = []\n",
    "        while curr_index < len(corpus_.test) and corpus_.test[curr_index] != eos_id:\n",
    "            sentence.append(corpus_.test[curr_index])\n",
    "            curr_index += 1\n",
    "\n",
    "        sentences_.append(sentence)\n",
    "        curr_index += 1\n",
    "\n",
    "    return sentences_"
   ]
  },
  {
   "cell_type": "code",
   "execution_count": 20,
   "id": "d0fb56c6fc535eb1",
   "metadata": {
    "ExecuteTime": {
     "end_time": "2024-08-14T07:10:47.092169Z",
     "start_time": "2024-08-14T07:10:45.454874Z"
    },
    "collapsed": false
   },
   "outputs": [],
   "source": [
    "sentences = extract_sentences(corpus)"
   ]
  },
  {
   "cell_type": "code",
   "execution_count": 52,
   "id": "d92db0c16a8ea25b",
   "metadata": {
    "ExecuteTime": {
     "end_time": "2024-08-14T07:27:20.576248Z",
     "start_time": "2024-08-14T07:27:20.575603Z"
    },
    "collapsed": false
   },
   "outputs": [],
   "source": [
    "def create_letters_count(sentence_, corpus_):\n",
    "    dict_letter = {}\n",
    "    for char_idx in sentence_:\n",
    "        char = corpus_.dictionary.idx2char[char_idx]\n",
    "        \n",
    "        if char not in dict_letter:\n",
    "            dict_letter[char] = {'count': 1, 'correct': 0}\n",
    "            \n",
    "        else:\n",
    "            dict_letter[char]['count'] += 1\n",
    "    \n",
    "    for char in range(ord('a'), ord('z') + 1):\n",
    "        char = chr(char)\n",
    "        if char not in dict_letter:\n",
    "            dict_letter[char] = {'count': 0, 'correct': 0}\n",
    "            \n",
    "    if ' ' not in dict_letter:\n",
    "        dict_letter[' '] = {'count': 0, 'correct': 0}\n",
    "    \n",
    "    return dict_letter\n",
    "\n",
    "def get_word_lengths(sentence_, backspace_id):\n",
    "    word_lengths = []\n",
    "\n",
    "    curr_index = 0\n",
    "    while curr_index < len(sentence_):\n",
    "        word = []\n",
    "        while curr_index < len(sentence_) and sentence_[curr_index] != backspace_id:\n",
    "            word.append(sentence_[curr_index])\n",
    "            curr_index += 1\n",
    "\n",
    "        word_lengths.append(len(word))\n",
    "        curr_index += 1\n",
    "\n",
    "    return word_lengths"
   ]
  },
  {
   "cell_type": "code",
   "execution_count": 55,
   "id": "8752538ff99b6ebd",
   "metadata": {
    "ExecuteTime": {
     "end_time": "2024-08-14T07:28:42.925883Z",
     "start_time": "2024-08-14T07:28:42.920230Z"
    },
    "collapsed": false
   },
   "outputs": [],
   "source": [
    "def calculate_statistics(sentence_, restored_sentence, corpus_):\n",
    "    backspace_id = corpus_.dictionary.char2idx[' ']\n",
    "\n",
    "    num_correct = 0\n",
    "    num_all = len(sentence_)\n",
    "\n",
    "    num_letters_correct = 0\n",
    "    num_letters_all = len([c for c in sentence_ if c != backspace_id])\n",
    "\n",
    "    num_backspace_correct = 0\n",
    "    num_backspace_all = num_all - num_letters_all\n",
    "\n",
    "    word_lengths = get_word_lengths(sentence_, backspace_id)\n",
    "    \n",
    "    num_first_half_word_correct = 0\n",
    "    num_first_half_word_all = sum([(c / 2) for c in word_lengths])\n",
    "\n",
    "    num_second_half_word_correct = 0\n",
    "    num_second_half_word_all = sum(word_lengths) - num_first_half_word_all\n",
    "    \n",
    "    letters_count = create_letters_count(sentence_, corpus_)\n",
    "\n",
    "    curr_word_index = 0\n",
    "    curr_word_letter_pos = 0\n",
    "    for i in range(len(sentence_)):\n",
    "        if sentence_[i] == restored_sentence[i]:\n",
    "            num_correct += 1\n",
    "\n",
    "            if sentence_[i] != backspace_id:\n",
    "                num_letters_correct += 1\n",
    "\n",
    "                curr_word_length = word_lengths[curr_word_index]\n",
    "                if curr_word_letter_pos < curr_word_length // 2:\n",
    "                    num_first_half_word_correct += 1\n",
    "                else:\n",
    "                    num_second_half_word_correct += 1\n",
    "\n",
    "            else:\n",
    "                num_backspace_correct += 1\n",
    "                \n",
    "            letters_count[corpus_.dictionary.idx2char[sentence_[i]]]['correct'] += 1\n",
    "\n",
    "        if sentence_[i] == backspace_id:\n",
    "            curr_word_index += 1\n",
    "            curr_word_letter_pos = 0\n",
    "        else:\n",
    "            curr_word_letter_pos += 1\n",
    "\n",
    "    return {'num_correct': num_correct, 'num_all': num_all, 'accuracy': num_correct / num_all,\n",
    "            'num_letters_correct': num_letters_correct, 'num_letters_all': num_letters_all,\n",
    "            'letters_accuracy': num_letters_correct / num_letters_all,\n",
    "            'num_backspace_correct': num_backspace_correct, 'num_backspace_all': num_backspace_all,\n",
    "            'backspace_accuracy': num_backspace_correct / num_backspace_all,\n",
    "            'num_first_half_word_correct': num_first_half_word_correct,\n",
    "            'num_first_half_word_all': num_first_half_word_all,\n",
    "            'first_half_word_accuracy': num_first_half_word_correct / num_first_half_word_all,\n",
    "            'num_second_half_word_correct': num_second_half_word_correct,\n",
    "            'num_second_half_word_all': num_second_half_word_all,\n",
    "            'second_half_word_accuracy': num_second_half_word_correct / num_second_half_word_all,\n",
    "            'letters_count': letters_count}\n",
    "\n",
    "\n",
    "def evaluate_sentence(sentence_, model_, corpus_, device_):\n",
    "    input_ids = sentence_[0].view(-1, 1).to(device_)\n",
    "    restored_sentence = [sentence_[0].item()]\n",
    "\n",
    "    for i in range(1, len(sentence_)):\n",
    "        output = model_(input_ids)\n",
    "        output = output['logits']\n",
    "\n",
    "        _, predicted = torch.max(output, -1)\n",
    "        predicted = predicted.view(-1)[-1]\n",
    "\n",
    "        restored_sentence.append(predicted.item())\n",
    "\n",
    "        next_char = sentence_[i].view(-1,1).to(device_)\n",
    "        input_ids = torch.cat((input_ids, next_char), dim=1)\n",
    "    \n",
    "    sentence_ = [c.item() for c in sentence_]\n",
    "    return_dict = calculate_statistics(sentence_, restored_sentence, corpus_)\n",
    "    return_dict['original_sentence'] = sentence_\n",
    "    return_dict['restored_sentence'] = restored_sentence\n",
    "    \n",
    "    return return_dict"
   ]
  },
  {
   "cell_type": "code",
   "execution_count": 74,
   "id": "66c8f86b0940c3b9",
   "metadata": {
    "ExecuteTime": {
     "end_time": "2024-08-14T07:38:55.524032Z",
     "start_time": "2024-08-14T07:38:55.509341Z"
    },
    "collapsed": false
   },
   "outputs": [],
   "source": [
    "def evaluate_sentences(sentences_, model_, corpus_, device_, output_file=None):\n",
    "    def print_line(line):\n",
    "        print(line)\n",
    "        if output_file is not None:\n",
    "            output_file.write(line + '\\n')\n",
    "    \n",
    "    statistics = {\n",
    "        'num_all': 0,\n",
    "        'num_correct': 0,\n",
    "        'num_letters_all': 0,\n",
    "        'num_letters_correct': 0,\n",
    "        'num_backspace_all': 0,\n",
    "        'num_backspace_correct': 0,\n",
    "        'num_first_half_word_all': 0,\n",
    "        'num_first_half_word_correct': 0,\n",
    "        'num_second_half_word_all': 0,\n",
    "        'num_second_half_word_correct': 0,\n",
    "        'letters_count': {char: {'count': 0, 'correct': 0} for char in [chr(x) for x in range(ord('a'), ord('z') + 1)] + [' ']}\n",
    "    }\n",
    "    \n",
    "    sentence_index = 0\n",
    "    for sentence in sentences_:\n",
    "        result = evaluate_sentence(sentence, model_, corpus_, device_)\n",
    "\n",
    "        print_line('Original: ' + ''.join([corpus.dictionary.idx2char[x] for x in result['original_sentence']]))\n",
    "        print_line('Restored: ' + ''.join([corpus.dictionary.idx2char[x] for x in result['restored_sentence']]))\n",
    "        print_line(f'Accuracy: {result[\"accuracy\"]:.4f} | Letters accuracy: {result[\"letters_accuracy\"]:.4f} | Backspace accuracy: {result[\"backspace_accuracy\"]:.4f} | First half word accuracy: {result[\"first_half_word_accuracy\"]:.4f} | Second half word accuracy: {result[\"second_half_word_accuracy\"]:.4f}\\n')\n",
    "        \n",
    "        statistics['num_all'] += result['num_all']\n",
    "        statistics['num_correct'] += result['num_correct']\n",
    "        statistics['num_letters_all'] += result['num_letters_all']\n",
    "        statistics['num_letters_correct'] += result['num_letters_correct']\n",
    "        statistics['num_backspace_all'] += result['num_backspace_all']\n",
    "        statistics['num_backspace_correct'] += result['num_backspace_correct']\n",
    "        statistics['num_first_half_word_all'] += result['num_first_half_word_all']\n",
    "        statistics['num_first_half_word_correct'] += result['num_first_half_word_correct']\n",
    "        statistics['num_second_half_word_all'] += result['num_second_half_word_all']\n",
    "        statistics['num_second_half_word_correct'] += result['num_second_half_word_correct']\n",
    "        for char in result['letters_count']:\n",
    "            statistics['letters_count'][char]['count'] += result['letters_count'][char]['count']\n",
    "            statistics['letters_count'][char]['correct'] += result['letters_count'][char]['correct']\n",
    "            \n",
    "        if sentence_index == 10:\n",
    "            break\n",
    "            \n",
    "        sentence_index += 1\n",
    "            \n",
    "    statistics['accuracy'] = statistics['num_correct'] / statistics['num_all']\n",
    "    statistics['letters_accuracy'] = statistics['num_letters_correct'] / statistics['num_letters_all']\n",
    "    statistics['backspace_accuracy'] = statistics['num_backspace_correct'] / statistics['num_backspace_all']\n",
    "    statistics['first_half_word_accuracy'] = statistics['num_first_half_word_correct'] / statistics['num_first_half_word_all']\n",
    "    statistics['second_half_word_accuracy'] = statistics['num_second_half_word_correct'] / statistics['num_second_half_word_all']\n",
    "    for char in statistics['letters_count']:\n",
    "        if statistics['letters_count'][char]['count'] != 0:\n",
    "            statistics['letters_count'][char]['accuracy'] = statistics['letters_count'][char]['correct'] / statistics['letters_count'][char]['count']\n",
    "            \n",
    "        else:\n",
    "            statistics['letters_count'][char]['accuracy'] = 0\n",
    "    \n",
    "    return statistics"
   ]
  },
  {
   "cell_type": "code",
   "execution_count": 76,
   "id": "59393eb90c294c81",
   "metadata": {
    "ExecuteTime": {
     "end_time": "2024-08-14T07:39:24.394747Z",
     "start_time": "2024-08-14T07:39:03.839383Z"
    },
    "collapsed": false
   },
   "outputs": [
    {
     "name": "stdout",
     "output_type": "stream",
     "text": [
      "Original: everytime you think undercover brother has run out of steam it finds a new way to surprise and amuse\n",
      "Restored: e e   ame aeu coink opter over aoiahersaav ten out of tcaam ansioras y sew say to strviise tnd sdpse\n",
      "Accuracy: 0.5800 | Letters accuracy: 0.5122 | Backspace accuracy: 0.8889 | First half word accuracy: 0.2195 | Second half word accuracy: 0.8049\n",
      "Original: part of the charm of satin rouge is that it avoids the obvious with humour and lightness\n",
      "Restored: pirt of the [oarastf thiyreaesnh tn thet tt iloids the cpjious calh timarr.and aomht ess\n",
      "Accuracy: 0.5682 | Letters accuracy: 0.5139 | Backspace accuracy: 0.8125 | First half word accuracy: 0.2778 | Second half word accuracy: 0.7500\n",
      "Original: manages to be original even though it rips off many of its ideas\n",
      "Restored: mmmdne  th me afgginallinen though tt iege ouf tony of tts sneas\n",
      "Accuracy: 0.6250 | Letters accuracy: 0.5577 | Backspace accuracy: 0.9167 | First half word accuracy: 0.3077 | Second half word accuracy: 0.8077\n",
      "Original: a pleasant enough movie held together by skilled ensemble actors\n",
      "Restored: aa haasent tntugh toneestarp to ether ty aeelled pneemblespntors\n",
      "Accuracy: 0.6094 | Letters accuracy: 0.6000 | Backspace accuracy: 0.6667 | First half word accuracy: 0.3273 | Second half word accuracy: 0.8727\n",
      "Original: son of the bride may be a good half hour too long but comes replete with a flattering sense of mystery and quietness\n",
      "Restored: sts tf the [oogg ook be s sood eanl oour oo  long.tyt tanp  aeaeane with a seas ening otcse of tostery.tnd auact ess\n",
      "Accuracy: 0.5862 | Letters accuracy: 0.5106 | Backspace accuracy: 0.9091 | First half word accuracy: 0.3191 | Second half word accuracy: 0.7021\n",
      "Original: this delicately observed story deeply felt and masterfully stylized is a triumph for its maverick director\n",
      "Restored: ttes tisibite y irserved ttary oevply iolt tsd sonteryul y aurlesed tt a crucmph oor tts soserick aesectir\n",
      "Accuracy: 0.6038 | Letters accuracy: 0.5385 | Backspace accuracy: 1.0000 | First half word accuracy: 0.2637 | Second half word accuracy: 0.8132\n",
      "Original: if this movie were a book it would be a page turner you ca nt wait to see what happens next\n",
      "Restored: ii ihes iasen wane s sexk on wauld he a bore ohrned ieu con[o.lost fo bee ahat yappene text\n",
      "Accuracy: 0.5604 | Letters accuracy: 0.4648 | Backspace accuracy: 0.9000 | First half word accuracy: 0.2817 | Second half word accuracy: 0.6479\n",
      "Original: at heart the movie is a deftly wrought suspense yarn whose richer shadings work as coloring rather than substance\n",
      "Restored: aa aa dt are souee 's a sesi e soinght aucpense aerd ahi e sesh s storong  aeuk ws aomdu ng aenher than sisstance\n",
      "Accuracy: 0.5398 | Letters accuracy: 0.4526 | Backspace accuracy: 1.0000 | First half word accuracy: 0.2526 | Second half word accuracy: 0.6526\n",
      "Original: haneke challenges us to confront the reality of sexual aberration\n",
      "Restored: hhh sentharlenges tneto sonsiont the eeality of tulual acsrration\n",
      "Accuracy: 0.7077 | Letters accuracy: 0.6964 | Backspace accuracy: 0.7778 | First half word accuracy: 0.5000 | Second half word accuracy: 0.8929\n",
      "Original: the appearance of treebeard and gollum s expanded role will either have you loving what you re seeing or rolling your eyes\n",
      "Restored: ttettnplarence of thaaslers pnd trldym ihinclndid tauesiitl bvther bave aeunoiseng tiat you cealaeing ar helling iour hyes\n",
      "Accuracy: 0.5738 | Letters accuracy: 0.5347 | Backspace accuracy: 0.7619 | First half word accuracy: 0.2772 | Second half word accuracy: 0.7921\n",
      "Original: this is a startling film that gives you a fascinating albeit depressing view of iranian rural life close to the iraqi border\n",
      "Restored: ttes ts t certtiing pogm ahat ioves aou a fivtinating fntuit aeseesseog tiowsof ttotian semal aafe.aoase to the snan. huuder\n",
      "Accuracy: 0.5887 | Letters accuracy: 0.5243 | Backspace accuracy: 0.9048 | First half word accuracy: 0.1942 | Second half word accuracy: 0.8544\n"
     ]
    }
   ],
   "source": [
    "stats = evaluate_sentences(sentences, model, corpus, device)"
   ]
  },
  {
   "cell_type": "code",
   "execution_count": 83,
   "id": "f448bdb1b5d2ce67",
   "metadata": {
    "ExecuteTime": {
     "end_time": "2024-08-14T07:40:22.474737Z",
     "start_time": "2024-08-14T07:40:22.430627Z"
    },
    "collapsed": false
   },
   "outputs": [],
   "source": [
    "def print_statistics(stats, output_file=None):\n",
    "    def print_line(line):\n",
    "        print(line)\n",
    "        if output_file is not None:\n",
    "            output_file.write(line + '\\n')\n",
    "\n",
    "    print_line(f'Accuracy: {stats[\"accuracy\"]:.4f}')\n",
    "    print_line(f'Letters accuracy: {stats[\"letters_accuracy\"]:.4f}')\n",
    "    print_line(f'Backspace accuracy: {stats[\"backspace_accuracy\"]:.4f}')\n",
    "    print_line(f'First half word accuracy: {stats[\"first_half_word_accuracy\"]:.4f}')\n",
    "    print_line(f'Second half word accuracy: {stats[\"second_half_word_accuracy\"]:.4f}')\n",
    "    print_line('Letters accuracy per letter:')\n",
    "    \n",
    "    chars_stats = ''\n",
    "    for char in stats['letters_count']:\n",
    "        if stats['letters_count'][char]['count'] != 0:\n",
    "            chars_stats += f'{char}: {stats[\"letters_count\"][char][\"accuracy\"]:.4f} '\n",
    "\n",
    "    print_line(chars_stats)"
   ]
  },
  {
   "cell_type": "code",
   "execution_count": 84,
   "id": "5e592b4bd4d16fce",
   "metadata": {
    "ExecuteTime": {
     "end_time": "2024-08-14T07:40:22.811076Z",
     "start_time": "2024-08-14T07:40:22.794183Z"
    },
    "collapsed": false
   },
   "outputs": [
    {
     "name": "stdout",
     "output_type": "stream",
     "text": [
      "Accuracy: 0.5888\n",
      "Letters accuracy: 0.5287\n",
      "Backspace accuracy: 0.8785\n",
      "First half word accuracy: 0.2821\n",
      "Second half word accuracy: 0.7752\n",
      "Letters accuracy per letter:\n",
      "a: 0.4658 b: 0.1250 c: 0.3125 d: 0.5385 e: 0.6916 f: 0.5217 g: 0.6522 h: 0.6190 i: 0.3281 k: 0.6667 l: 0.4615 m: 0.4211 n: 0.6800 o: 0.5075 p: 0.4667 q: 0.0000 r: 0.4677 s: 0.5738 t: 0.6842 u: 0.5161 v: 0.2857 w: 0.3571 x: 0.3333 y: 0.5000 z: 0.0000  : 0.8785 \n"
     ]
    }
   ],
   "source": [
    "print_statistics(stats)"
   ]
  },
  {
   "cell_type": "code",
   "execution_count": 86,
   "id": "42761a17cde97111",
   "metadata": {
    "ExecuteTime": {
     "end_time": "2024-08-14T07:42:17.398191Z",
     "start_time": "2024-08-14T07:42:16.660360Z"
    },
    "collapsed": false
   },
   "outputs": [
    {
     "data": {
      "image/png": "[encoded data removed]",
      "text/plain": [
       "<Figure size 1000x500 with 1 Axes>"
      ]
     },
     "metadata": {},
     "output_type": "display_data"
    },
    {
     "data": {
      "image/png": "[encoded data removed]",
      "text/plain": [
       "<Figure size 1000x500 with 1 Axes>"
      ]
     },
     "metadata": {},
     "output_type": "display_data"
    }
   ],
   "source": [
    "import matplotlib.pyplot as plt\n",
    "\n",
    "def plot_letters_hist(stats, output_file=None):\n",
    "    letters = [chr(x) for x in range(ord('a'), ord('z') + 1)] + [' ']\n",
    "    accuracies = [stats['letters_count'][char]['accuracy'] for char in letters]\n",
    "\n",
    "    plt.figure(figsize=(10, 5))\n",
    "    plt.bar(letters, accuracies)\n",
    "    plt.xlabel('Letter')\n",
    "    plt.ylabel('Accuracy')\n",
    "    plt.title('Letters accuracy')\n",
    "    \n",
    "    if output_file is not None:\n",
    "        plt.savefig(output_file)\n",
    "    else:\n",
    "        plt.show()\n",
    "    \n",
    "def plot_accuracy_hist(stats, output_file=None):\n",
    "    accuracies = [stats['accuracy'], stats['letters_accuracy'], stats['backspace_accuracy'], stats['first_half_word_accuracy'], stats['second_half_word_accuracy']]\n",
    "    names = ['All', 'Letters', 'Backspace', 'First half word', 'Second half word']\n",
    "\n",
    "    plt.figure(figsize=(10, 5))\n",
    "    plt.bar(names, accuracies)\n",
    "    plt.xlabel('Type')\n",
    "    plt.ylabel('Accuracy')\n",
    "    plt.title('Accuracy')\n",
    "    \n",
    "    if output_file is not None:\n",
    "        plt.savefig(output_file)\n",
    "    else:\n",
    "        plt.show()\n",
    "    \n",
    "plot_letters_hist(stats)\n",
    "plot_accuracy_hist(stats)"
   ]
  },
  {
   "cell_type": "code",
   "execution_count": 89,
   "id": "dc92caa4e351de66",
   "metadata": {
    "ExecuteTime": {
     "end_time": "2024-08-14T07:54:36.337022Z",
     "start_time": "2024-08-14T07:54:36.331380Z"
    },
    "collapsed": false
   },
   "outputs": [
    {
     "data": {
      "text/plain": [
       "'./evaluation'"
      ]
     },
     "execution_count": 89,
     "metadata": {},
     "output_type": "execute_result"
    }
   ],
   "source": [
    "import os\n",
    "os.path.join(os.path.dirname('./model.pt'), 'evaluation')"
   ]
  },
  {
   "cell_type": "markdown",
   "id": "ab5fb1d3335825bc",
   "metadata": {
    "collapsed": false
   },
   "source": [
    "# Fine-tuning"
   ]
  },
  {
   "cell_type": "code",
   "execution_count": 2,
   "id": "48e3805aaa52ec67",
   "metadata": {
    "ExecuteTime": {
     "end_time": "2024-08-14T17:05:38.743568Z",
     "start_time": "2024-08-14T17:05:33.020085Z"
    },
    "collapsed": false
   },
   "outputs": [],
   "source": [
    "import torch\n",
    "from transformers import ReformerModelWithLMHead, ReformerConfig\n",
    "from torch.utils.data import Dataset, DataLoader\n",
    "from data_scripts.data_reformer import Corpus"
   ]
  },
  {
   "cell_type": "code",
   "execution_count": 18,
   "id": "7275222a7c4810d7",
   "metadata": {
    "ExecuteTime": {
     "end_time": "2024-08-13T16:00:43.822749Z",
     "start_time": "2024-08-13T16:00:43.132103Z"
    },
    "collapsed": false
   },
   "outputs": [],
   "source": [
    "corpus: Corpus = Corpus(\"./data/sentences\")"
   ]
  },
  {
   "cell_type": "code",
   "execution_count": 19,
   "id": "771adb11fa6f0d67",
   "metadata": {
    "ExecuteTime": {
     "end_time": "2024-08-13T16:00:43.823668Z",
     "start_time": "2024-08-13T16:00:43.822715Z"
    },
    "collapsed": false
   },
   "outputs": [],
   "source": [
    "class TextDataset(Dataset):\n",
    "    def __init__(self, data, block_size):\n",
    "        self.data = data\n",
    "        self.block_size = block_size\n",
    "\n",
    "    def __len__(self):\n",
    "        return len(self.data) - self.block_size\n",
    "\n",
    "    def __getitem__(self, idx):\n",
    "        x = self.data[idx:idx+self.block_size]\n",
    "        y = self.data[idx+1:idx+self.block_size+1]\n",
    "        return x, y"
   ]
  },
  {
   "cell_type": "code",
   "execution_count": 20,
   "id": "49a12c53c07576c5",
   "metadata": {
    "ExecuteTime": {
     "end_time": "2024-08-13T16:00:43.824069Z",
     "start_time": "2024-08-13T16:00:43.822825Z"
    },
    "collapsed": false
   },
   "outputs": [],
   "source": [
    "block_size = 128  # Sequence length to consider for training\n",
    "\n",
    "train_dataset = TextDataset(corpus.train, block_size)\n",
    "valid_dataset = TextDataset(corpus.valid, block_size)\n",
    "test_dataset = TextDataset(corpus.test, block_size)"
   ]
  },
  {
   "cell_type": "code",
   "execution_count": 21,
   "id": "7a99b741a2d042a1",
   "metadata": {
    "ExecuteTime": {
     "end_time": "2024-08-13T16:00:43.824467Z",
     "start_time": "2024-08-13T16:00:43.822876Z"
    },
    "collapsed": false
   },
   "outputs": [],
   "source": [
    "train_loader = DataLoader(train_dataset, batch_size=64)\n",
    "valid_loader = DataLoader(valid_dataset, batch_size=64)\n",
    "test_loader = DataLoader(test_dataset, batch_size=64)"
   ]
  },
  {
   "cell_type": "code",
   "execution_count": 4,
   "id": "191186c62f092fcf",
   "metadata": {
    "ExecuteTime": {
     "end_time": "2024-08-14T17:05:43.465241Z",
     "start_time": "2024-08-14T17:05:43.460958Z"
    },
    "collapsed": false
   },
   "outputs": [],
   "source": [
    "device = torch.device(\"cuda\" if torch.cuda.is_available() else \"cpu\")"
   ]
  },
  {
   "cell_type": "code",
   "execution_count": 5,
   "id": "d439591cbc70d182",
   "metadata": {
    "ExecuteTime": {
     "end_time": "2024-08-14T17:05:44.876773Z",
     "start_time": "2024-08-14T17:05:43.473651Z"
    },
    "collapsed": false
   },
   "outputs": [
    {
     "name": "stderr",
     "output_type": "stream",
     "text": [
      "Some weights of the model checkpoint at google/reformer-enwik8 were not used when initializing ReformerModelWithLMHead: ['reformer.embeddings.position_embeddings.weights.0', 'reformer.embeddings.position_embeddings.weights.1']\n",
      "- This IS expected if you are initializing ReformerModelWithLMHead from the checkpoint of a model trained on another task or with another architecture (e.g. initializing a BertForSequenceClassification model from a BertForPreTraining model).\n",
      "- This IS NOT expected if you are initializing ReformerModelWithLMHead from the checkpoint of a model that you expect to be exactly identical (initializing a BertForSequenceClassification model from a BertForSequenceClassification model).\n",
      "Some weights of ReformerModelWithLMHead were not initialized from the model checkpoint at google/reformer-enwik8 and are newly initialized: ['reformer.embeddings.position_embeddings.embedding.weight']\n",
      "You should probably TRAIN this model on a down-stream task to be able to use it for predictions and inference.\n"
     ]
    }
   ],
   "source": [
    "conf = ReformerConfig.from_pretrained(\"google/reformer-enwik8\")\n",
    "conf.axial_pos_embds = False\n",
    "conf.max_position_embeddings = 512\n",
    "model = ReformerModelWithLMHead.from_pretrained(\"google/reformer-enwik8\", config=conf)\n",
    "model = model.to(device)"
   ]
  },
  {
   "cell_type": "code",
   "execution_count": 6,
   "id": "a573abebd072bfba",
   "metadata": {
    "ExecuteTime": {
     "end_time": "2024-08-14T17:05:48.740363Z",
     "start_time": "2024-08-14T17:05:48.718855Z"
    },
    "collapsed": false
   },
   "outputs": [
    {
     "name": "stdout",
     "output_type": "stream",
     "text": [
      "ReformerModelWithLMHead(\n",
      "  (reformer): ReformerModel(\n",
      "    (embeddings): ReformerEmbeddings(\n",
      "      (word_embeddings): Embedding(258, 1024)\n",
      "      (position_embeddings): PositionEmbeddings(\n",
      "        (embedding): Embedding(512, 1024)\n",
      "      )\n",
      "    )\n",
      "    (encoder): ReformerEncoder(\n",
      "      (layers): ModuleList(\n",
      "        (0-1): 2 x ReformerLayer(\n",
      "          (attention): ReformerAttention(\n",
      "            (layer_norm): LayerNorm((1024,), eps=1e-12, elementwise_affine=True)\n",
      "            (self_attention): LocalSelfAttention(\n",
      "              (query): Linear(in_features=1024, out_features=1024, bias=False)\n",
      "              (key): Linear(in_features=1024, out_features=1024, bias=False)\n",
      "              (value): Linear(in_features=1024, out_features=1024, bias=False)\n",
      "            )\n",
      "            (output): ReformerSelfOutput(\n",
      "              (dense): Linear(in_features=1024, out_features=1024, bias=False)\n",
      "            )\n",
      "          )\n",
      "          (feed_forward): ChunkReformerFeedForward(\n",
      "            (layer_norm): LayerNorm((1024,), eps=1e-12, elementwise_affine=True)\n",
      "            (dense): ReformerFeedForwardDense(\n",
      "              (act_fn): ReLU()\n",
      "              (dense): Linear(in_features=1024, out_features=4096, bias=True)\n",
      "            )\n",
      "            (output): ReformerFeedForwardOutput(\n",
      "              (dense): Linear(in_features=4096, out_features=1024, bias=True)\n",
      "            )\n",
      "          )\n",
      "        )\n",
      "        (2): ReformerLayer(\n",
      "          (attention): ReformerAttention(\n",
      "            (layer_norm): LayerNorm((1024,), eps=1e-12, elementwise_affine=True)\n",
      "            (self_attention): LSHSelfAttention(\n",
      "              (query_key): Linear(in_features=1024, out_features=1024, bias=False)\n",
      "              (value): Linear(in_features=1024, out_features=1024, bias=False)\n",
      "            )\n",
      "            (output): ReformerSelfOutput(\n",
      "              (dense): Linear(in_features=1024, out_features=1024, bias=False)\n",
      "            )\n",
      "          )\n",
      "          (feed_forward): ChunkReformerFeedForward(\n",
      "            (layer_norm): LayerNorm((1024,), eps=1e-12, elementwise_affine=True)\n",
      "            (dense): ReformerFeedForwardDense(\n",
      "              (act_fn): ReLU()\n",
      "              (dense): Linear(in_features=1024, out_features=4096, bias=True)\n",
      "            )\n",
      "            (output): ReformerFeedForwardOutput(\n",
      "              (dense): Linear(in_features=4096, out_features=1024, bias=True)\n",
      "            )\n",
      "          )\n",
      "        )\n",
      "        (3-5): 3 x ReformerLayer(\n",
      "          (attention): ReformerAttention(\n",
      "            (layer_norm): LayerNorm((1024,), eps=1e-12, elementwise_affine=True)\n",
      "            (self_attention): LocalSelfAttention(\n",
      "              (query): Linear(in_features=1024, out_features=1024, bias=False)\n",
      "              (key): Linear(in_features=1024, out_features=1024, bias=False)\n",
      "              (value): Linear(in_features=1024, out_features=1024, bias=False)\n",
      "            )\n",
      "            (output): ReformerSelfOutput(\n",
      "              (dense): Linear(in_features=1024, out_features=1024, bias=False)\n",
      "            )\n",
      "          )\n",
      "          (feed_forward): ChunkReformerFeedForward(\n",
      "            (layer_norm): LayerNorm((1024,), eps=1e-12, elementwise_affine=True)\n",
      "            (dense): ReformerFeedForwardDense(\n",
      "              (act_fn): ReLU()\n",
      "              (dense): Linear(in_features=1024, out_features=4096, bias=True)\n",
      "            )\n",
      "            (output): ReformerFeedForwardOutput(\n",
      "              (dense): Linear(in_features=4096, out_features=1024, bias=True)\n",
      "            )\n",
      "          )\n",
      "        )\n",
      "        (6): ReformerLayer(\n",
      "          (attention): ReformerAttention(\n",
      "            (layer_norm): LayerNorm((1024,), eps=1e-12, elementwise_affine=True)\n",
      "            (self_attention): LSHSelfAttention(\n",
      "              (query_key): Linear(in_features=1024, out_features=1024, bias=False)\n",
      "              (value): Linear(in_features=1024, out_features=1024, bias=False)\n",
      "            )\n",
      "            (output): ReformerSelfOutput(\n",
      "              (dense): Linear(in_features=1024, out_features=1024, bias=False)\n",
      "            )\n",
      "          )\n",
      "          (feed_forward): ChunkReformerFeedForward(\n",
      "            (layer_norm): LayerNorm((1024,), eps=1e-12, elementwise_affine=True)\n",
      "            (dense): ReformerFeedForwardDense(\n",
      "              (act_fn): ReLU()\n",
      "              (dense): Linear(in_features=1024, out_features=4096, bias=True)\n",
      "            )\n",
      "            (output): ReformerFeedForwardOutput(\n",
      "              (dense): Linear(in_features=4096, out_features=1024, bias=True)\n",
      "            )\n",
      "          )\n",
      "        )\n",
      "        (7-9): 3 x ReformerLayer(\n",
      "          (attention): ReformerAttention(\n",
      "            (layer_norm): LayerNorm((1024,), eps=1e-12, elementwise_affine=True)\n",
      "            (self_attention): LocalSelfAttention(\n",
      "              (query): Linear(in_features=1024, out_features=1024, bias=False)\n",
      "              (key): Linear(in_features=1024, out_features=1024, bias=False)\n",
      "              (value): Linear(in_features=1024, out_features=1024, bias=False)\n",
      "            )\n",
      "            (output): ReformerSelfOutput(\n",
      "              (dense): Linear(in_features=1024, out_features=1024, bias=False)\n",
      "            )\n",
      "          )\n",
      "          (feed_forward): ChunkReformerFeedForward(\n",
      "            (layer_norm): LayerNorm((1024,), eps=1e-12, elementwise_affine=True)\n",
      "            (dense): ReformerFeedForwardDense(\n",
      "              (act_fn): ReLU()\n",
      "              (dense): Linear(in_features=1024, out_features=4096, bias=True)\n",
      "            )\n",
      "            (output): ReformerFeedForwardOutput(\n",
      "              (dense): Linear(in_features=4096, out_features=1024, bias=True)\n",
      "            )\n",
      "          )\n",
      "        )\n",
      "        (10): ReformerLayer(\n",
      "          (attention): ReformerAttention(\n",
      "            (layer_norm): LayerNorm((1024,), eps=1e-12, elementwise_affine=True)\n",
      "            (self_attention): LSHSelfAttention(\n",
      "              (query_key): Linear(in_features=1024, out_features=1024, bias=False)\n",
      "              (value): Linear(in_features=1024, out_features=1024, bias=False)\n",
      "            )\n",
      "            (output): ReformerSelfOutput(\n",
      "              (dense): Linear(in_features=1024, out_features=1024, bias=False)\n",
      "            )\n",
      "          )\n",
      "          (feed_forward): ChunkReformerFeedForward(\n",
      "            (layer_norm): LayerNorm((1024,), eps=1e-12, elementwise_affine=True)\n",
      "            (dense): ReformerFeedForwardDense(\n",
      "              (act_fn): ReLU()\n",
      "              (dense): Linear(in_features=1024, out_features=4096, bias=True)\n",
      "            )\n",
      "            (output): ReformerFeedForwardOutput(\n",
      "              (dense): Linear(in_features=4096, out_features=1024, bias=True)\n",
      "            )\n",
      "          )\n",
      "        )\n",
      "        (11): ReformerLayer(\n",
      "          (attention): ReformerAttention(\n",
      "            (layer_norm): LayerNorm((1024,), eps=1e-12, elementwise_affine=True)\n",
      "            (self_attention): LocalSelfAttention(\n",
      "              (query): Linear(in_features=1024, out_features=1024, bias=False)\n",
      "              (key): Linear(in_features=1024, out_features=1024, bias=False)\n",
      "              (value): Linear(in_features=1024, out_features=1024, bias=False)\n",
      "            )\n",
      "            (output): ReformerSelfOutput(\n",
      "              (dense): Linear(in_features=1024, out_features=1024, bias=False)\n",
      "            )\n",
      "          )\n",
      "          (feed_forward): ChunkReformerFeedForward(\n",
      "            (layer_norm): LayerNorm((1024,), eps=1e-12, elementwise_affine=True)\n",
      "            (dense): ReformerFeedForwardDense(\n",
      "              (act_fn): ReLU()\n",
      "              (dense): Linear(in_features=1024, out_features=4096, bias=True)\n",
      "            )\n",
      "            (output): ReformerFeedForwardOutput(\n",
      "              (dense): Linear(in_features=4096, out_features=1024, bias=True)\n",
      "            )\n",
      "          )\n",
      "        )\n",
      "      )\n",
      "      (layer_norm): LayerNorm((2048,), eps=1e-12, elementwise_affine=True)\n",
      "    )\n",
      "  )\n",
      "  (lm_head): ReformerOnlyLMHead(\n",
      "    (decoder): Linear(in_features=2048, out_features=258, bias=True)\n",
      "  )\n",
      ")\n"
     ]
    }
   ],
   "source": [
    "print(model)"
   ]
  },
  {
   "cell_type": "code",
   "execution_count": 7,
   "id": "6304261586812838",
   "metadata": {
    "ExecuteTime": {
     "end_time": "2024-08-14T17:06:13.363934Z",
     "start_time": "2024-08-14T17:06:13.359352Z"
    },
    "collapsed": false
   },
   "outputs": [
    {
     "name": "stdout",
     "output_type": "stream",
     "text": [
      "ReformerConfig {\n",
      "  \"_name_or_path\": \"google/reformer-enwik8\",\n",
      "  \"architectures\": [\n",
      "    \"ReformerModelWithLMHead\"\n",
      "  ],\n",
      "  \"attention_head_size\": 128,\n",
      "  \"attn_layers\": [\n",
      "    \"local\",\n",
      "    \"local\",\n",
      "    \"lsh\",\n",
      "    \"local\",\n",
      "    \"local\",\n",
      "    \"local\",\n",
      "    \"lsh\",\n",
      "    \"local\",\n",
      "    \"local\",\n",
      "    \"local\",\n",
      "    \"lsh\",\n",
      "    \"local\"\n",
      "  ],\n",
      "  \"axial_norm_std\": 1.0,\n",
      "  \"axial_pos_embds\": false,\n",
      "  \"axial_pos_embds_dim\": [\n",
      "    256,\n",
      "    768\n",
      "  ],\n",
      "  \"axial_pos_shape\": [\n",
      "    128,\n",
      "    512\n",
      "  ],\n",
      "  \"chunk_size_lm_head\": 0,\n",
      "  \"classifier_dropout\": null,\n",
      "  \"eos_token_id\": 2,\n",
      "  \"feed_forward_size\": 4096,\n",
      "  \"hash_seed\": null,\n",
      "  \"hidden_act\": \"relu\",\n",
      "  \"hidden_dropout_prob\": 0.2,\n",
      "  \"hidden_size\": 1024,\n",
      "  \"initializer_range\": 0.02,\n",
      "  \"is_decoder\": true,\n",
      "  \"layer_norm_eps\": 1e-12,\n",
      "  \"local_attention_probs_dropout_prob\": 0.2,\n",
      "  \"local_attn_chunk_length\": 128,\n",
      "  \"local_num_chunks_after\": 0,\n",
      "  \"local_num_chunks_before\": 1,\n",
      "  \"lsh_attention_probs_dropout_prob\": 0.1,\n",
      "  \"lsh_attn_chunk_length\": 256,\n",
      "  \"lsh_num_chunks_after\": 0,\n",
      "  \"lsh_num_chunks_before\": 1,\n",
      "  \"max_position_embeddings\": 512,\n",
      "  \"model_type\": \"reformer\",\n",
      "  \"num_attention_heads\": 8,\n",
      "  \"num_buckets\": 512,\n",
      "  \"num_hashes\": 4,\n",
      "  \"num_hidden_layers\": 12,\n",
      "  \"output_past\": true,\n",
      "  \"pad_token_id\": 0,\n",
      "  \"task_specific_params\": {\n",
      "    \"text-generation\": {\n",
      "      \"do_sample\": true,\n",
      "      \"max_length\": 100\n",
      "    }\n",
      "  },\n",
      "  \"tie_word_embeddings\": false,\n",
      "  \"transformers_version\": \"4.37.2\",\n",
      "  \"use_cache\": true,\n",
      "  \"vocab_size\": 258\n",
      "}\n"
     ]
    }
   ],
   "source": [
    "print(model.config)"
   ]
  },
  {
   "cell_type": "code",
   "execution_count": 25,
   "id": "55238f4422f814aa",
   "metadata": {
    "ExecuteTime": {
     "end_time": "2024-08-13T16:00:45.437953Z",
     "start_time": "2024-08-13T16:00:45.428907Z"
    },
    "collapsed": false
   },
   "outputs": [],
   "source": [
    "optimizer = torch.optim.Adam(model.parameters(), lr=1e-4)\n",
    "criterion = torch.nn.CrossEntropyLoss()"
   ]
  },
  {
   "cell_type": "code",
   "execution_count": 26,
   "id": "fd8a414fe4ff7c04",
   "metadata": {
    "ExecuteTime": {
     "end_time": "2024-08-13T16:00:46.123752Z",
     "start_time": "2024-08-13T16:00:46.089028Z"
    },
    "collapsed": false
   },
   "outputs": [],
   "source": [
    "def train(model, dataloader, optimizer, criterion, epoch, device):\n",
    "    model.train()\n",
    "    total_loss = 0\n",
    "    total_correct = 0\n",
    "    total_predictions = 0\n",
    "    \n",
    "    for batch_idx, (input_ids, targets) in enumerate(dataloader):\n",
    "        # Move data to device\n",
    "        input_ids = input_ids.to(device)\n",
    "        targets = targets.to(device)\n",
    "\n",
    "        # Forward pass\n",
    "        outputs = model(input_ids)\n",
    "        loss = criterion(outputs.logits.view(-1, outputs.logits.size(-1)), targets.view(-1))\n",
    "        \n",
    "        # Accuracy\n",
    "        _, predictions = torch.max(outputs.logits, -1)\n",
    "        total_correct += (predictions == targets).sum().item()\n",
    "        total_predictions += len(targets.view(-1))\n",
    "\n",
    "        # Backward pass\n",
    "        optimizer.zero_grad()\n",
    "        loss.backward()\n",
    "        optimizer.step()\n",
    "\n",
    "        total_loss += loss.item()\n",
    "\n",
    "        # Logging\n",
    "        if (batch_idx + 1) % 10 == 0:\n",
    "            avg_loss = total_loss / (batch_idx + 1)\n",
    "            print(f'Epoch [{epoch}], Step [{batch_idx +1}/{len(dataloader)}], Loss: {avg_loss:.4f}, Accuracy: {total_correct / total_predictions:.4f}')\n",
    "\n",
    "    avg_epoch_loss = total_loss / len(dataloader)\n",
    "    print(f'====> Epoch: {epoch} Average loss: {avg_epoch_loss:.4f}')\n",
    "    return avg_epoch_loss"
   ]
  },
  {
   "cell_type": "code",
   "execution_count": 27,
   "id": "aba1e1e22517ed8",
   "metadata": {
    "ExecuteTime": {
     "end_time": "2024-08-13T16:00:46.616920Z",
     "start_time": "2024-08-13T16:00:46.599194Z"
    },
    "collapsed": false
   },
   "outputs": [],
   "source": [
    "def evaluate(model, dataloader, criterion, device):\n",
    "    model.eval()\n",
    "    \n",
    "    total_loss = 0\n",
    "    total_correct = 0\n",
    "    total_predictions = 0\n",
    "    \n",
    "    with torch.no_grad():\n",
    "        for input_ids, targets in dataloader:\n",
    "            \n",
    "            # Move data to device        \n",
    "            input_ids = input_ids.to(device)\n",
    "            targets = targets.to(device)\n",
    "            \n",
    "            # Forward pass\n",
    "            outputs = model(input_ids)\n",
    "            \n",
    "            loss = criterion(outputs.logits.view(-1, outputs.logits.size(-1)), targets.view(-1))\n",
    "            total_loss += loss.item()\n",
    "            \n",
    "            # Accuracy\n",
    "            _, predictions = torch.max(outputs.logits, -1)\n",
    "            total_correct += (predictions == targets).sum().item()\n",
    "            total_predictions += len(targets.view(-1))\n",
    "\n",
    "    avg_loss = total_loss / len(dataloader)\n",
    "    print(f'====> Evaluation Average loss: {avg_loss:.4f}, Accuracy: {total_correct / total_predictions:.4f}')\n",
    "    return avg_loss"
   ]
  },
  {
   "cell_type": "code",
   "execution_count": 28,
   "id": "532c6871b94863e7",
   "metadata": {
    "ExecuteTime": {
     "end_time": "2024-08-13T16:01:36.540463Z",
     "start_time": "2024-08-13T16:00:46.980814Z"
    },
    "collapsed": false
   },
   "outputs": [
    {
     "name": "stdout",
     "output_type": "stream",
     "text": [
      "\n",
      "===== Epoch 1 =====\n",
      "Epoch [1], Step [10/14746], Loss: 3.1769, Accuracy: 0.1688\n",
      "Epoch [1], Step [20/14746], Loss: 2.9995, Accuracy: 0.1887\n",
      "Epoch [1], Step [30/14746], Loss: 2.9410, Accuracy: 0.1956\n"
     ]
    },
    {
     "ename": "KeyboardInterrupt",
     "evalue": "",
     "output_type": "error",
     "traceback": [
      "\u001b[0;31m---------------------------------------------------------------------------\u001b[0m",
      "\u001b[0;31mKeyboardInterrupt\u001b[0m                         Traceback (most recent call last)",
      "Cell \u001b[0;32mIn[28], line 9\u001b[0m\n\u001b[1;32m      6\u001b[0m \u001b[38;5;28mprint\u001b[39m(\u001b[38;5;124mf\u001b[39m\u001b[38;5;124m'\u001b[39m\u001b[38;5;130;01m\\n\u001b[39;00m\u001b[38;5;124m===== Epoch \u001b[39m\u001b[38;5;132;01m{\u001b[39;00mepoch\u001b[38;5;132;01m}\u001b[39;00m\u001b[38;5;124m =====\u001b[39m\u001b[38;5;124m'\u001b[39m)\n\u001b[1;32m      8\u001b[0m \u001b[38;5;66;03m# Training\u001b[39;00m\n\u001b[0;32m----> 9\u001b[0m train_loss \u001b[38;5;241m=\u001b[39m \u001b[43mtrain\u001b[49m\u001b[43m(\u001b[49m\u001b[43mmodel\u001b[49m\u001b[43m,\u001b[49m\u001b[43m \u001b[49m\u001b[43mtrain_loader\u001b[49m\u001b[43m,\u001b[49m\u001b[43m \u001b[49m\u001b[43moptimizer\u001b[49m\u001b[43m,\u001b[49m\u001b[43m \u001b[49m\u001b[43mcriterion\u001b[49m\u001b[43m,\u001b[49m\u001b[43m \u001b[49m\u001b[43mepoch\u001b[49m\u001b[43m,\u001b[49m\u001b[43m \u001b[49m\u001b[43mdevice\u001b[49m\u001b[43m)\u001b[49m\n\u001b[1;32m     11\u001b[0m \u001b[38;5;66;03m# Validation\u001b[39;00m\n\u001b[1;32m     12\u001b[0m valid_loss \u001b[38;5;241m=\u001b[39m evaluate(model, valid_loader, criterion, device)\n",
      "Cell \u001b[0;32mIn[26], line 26\u001b[0m, in \u001b[0;36mtrain\u001b[0;34m(model, dataloader, optimizer, criterion, epoch, device)\u001b[0m\n\u001b[1;32m     23\u001b[0m loss\u001b[38;5;241m.\u001b[39mbackward()\n\u001b[1;32m     24\u001b[0m optimizer\u001b[38;5;241m.\u001b[39mstep()\n\u001b[0;32m---> 26\u001b[0m total_loss \u001b[38;5;241m+\u001b[39m\u001b[38;5;241m=\u001b[39m \u001b[43mloss\u001b[49m\u001b[38;5;241;43m.\u001b[39;49m\u001b[43mitem\u001b[49m\u001b[43m(\u001b[49m\u001b[43m)\u001b[49m\n\u001b[1;32m     28\u001b[0m \u001b[38;5;66;03m# Logging\u001b[39;00m\n\u001b[1;32m     29\u001b[0m \u001b[38;5;28;01mif\u001b[39;00m (batch_idx \u001b[38;5;241m+\u001b[39m \u001b[38;5;241m1\u001b[39m) \u001b[38;5;241m%\u001b[39m \u001b[38;5;241m10\u001b[39m \u001b[38;5;241m==\u001b[39m \u001b[38;5;241m0\u001b[39m:\n",
      "\u001b[0;31mKeyboardInterrupt\u001b[0m: "
     ]
    }
   ],
   "source": [
    "num_epochs = 5  # Set the number of epochs\n",
    "\n",
    "best_valid_loss = float('inf')\n",
    "\n",
    "for epoch in range(1, num_epochs + 1):\n",
    "    print(f'\\n===== Epoch {epoch} =====')\n",
    "\n",
    "    # Training\n",
    "    train_loss = train(model, train_loader, optimizer, criterion, epoch, device)\n",
    "\n",
    "    # Validation\n",
    "    valid_loss = evaluate(model, valid_loader, criterion, device)\n",
    "\n",
    "    # Save the model if validation loss has decreased\n",
    "    if valid_loss < best_valid_loss:\n",
    "        best_valid_loss = valid_loss\n",
    "        torch.save(model.state_dict(), 'best_model.pt')\n",
    "        print('Model saved!\\n')"
   ]
  },
  {
   "cell_type": "code",
   "id": "47cba2d6057a231b",
   "metadata": {
    "collapsed": false
   },
   "outputs": [],
   "source": [
    "# Load the best model\n",
    "model.load_state_dict(torch.load('best_model.pt'))\n",
    "\n",
    "# Evaluate on test set\n",
    "test_loss = evaluate(model, test_loader, criterion, device)\n",
    "print(f'\\nTest Loss: {test_loss:.4f}')"
   ]
  }
 ],
 "metadata": {
  "kernelspec": {
   "display_name": "Python 3",
   "language": "python",
   "name": "python3"
  },
  "language_info": {
   "codemirror_mode": {
    "name": "ipython",
    "version": 2
   },
   "file_extension": ".py",
   "mimetype": "text/x-python",
   "name": "python",
   "nbconvert_exporter": "python",
   "pygments_lexer": "ipython2",
   "version": "2.7.6"
  }
 },
 "nbformat": 4,
 "nbformat_minor": 5
}
